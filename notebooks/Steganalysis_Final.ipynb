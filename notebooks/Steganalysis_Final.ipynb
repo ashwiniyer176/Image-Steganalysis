{
 "cells": [
  {
   "cell_type": "code",
   "execution_count": 1,
   "metadata": {},
   "outputs": [],
   "source": [
    "import numpy as np\n",
    "import pandas as pd\n",
    "import matplotlib.pyplot as plt\n",
    "import seaborn as sns\n",
    "import os\n",
    "%matplotlib inline"
   ]
  },
  {
   "cell_type": "code",
   "execution_count": 2,
   "metadata": {},
   "outputs": [],
   "source": [
    "import torch\n",
    "import torch.nn as nn\n",
    "import torch.nn.functional as F\n",
    "from torchvision.datasets import ImageFolder\n",
    "from torch.utils.data import DataLoader\n",
    "from torchvision import transforms"
   ]
  },
  {
   "cell_type": "code",
   "execution_count": 3,
   "metadata": {},
   "outputs": [],
   "source": [
    "transform = transforms.Compose([\n",
    "    transforms.Resize(28),\n",
    "    transforms.ToTensor(),\n",
    "    transforms.Normalize((0.5, 0.5, 0.5), (0.5, 0.5, 0.5))\n",
    "])"
   ]
  },
  {
   "cell_type": "code",
   "execution_count": 4,
   "metadata": {},
   "outputs": [],
   "source": [
    "DATA_PATH = \"C:/Datasets/Steganalysis\"\n",
    "trainset = ImageFolder(DATA_PATH+\"/train/\", transform=transform)\n",
    "testset = ImageFolder(DATA_PATH+\"/test/\", transform=transform)"
   ]
  },
  {
   "cell_type": "code",
   "execution_count": 5,
   "metadata": {},
   "outputs": [
    {
     "data": {
      "text/plain": [
       "['JMiPOD', 'JUNIWARD', 'MLStego', 'Normal', 'UERD']"
      ]
     },
     "execution_count": 5,
     "metadata": {},
     "output_type": "execute_result"
    }
   ],
   "source": [
    "trainset.classes"
   ]
  },
  {
   "cell_type": "code",
   "execution_count": 6,
   "metadata": {},
   "outputs": [],
   "source": [
    "trainLoader = DataLoader(trainset, batch_size=32, shuffle=True)"
   ]
  },
  {
   "cell_type": "code",
   "execution_count": 7,
   "metadata": {},
   "outputs": [],
   "source": [
    "class StegNet(nn.Module):\n",
    "    def __init__(self):\n",
    "        super().__init__()\n",
    "        self.block1 = nn.Sequential(\n",
    "            nn.Conv2d(3, 6, 3),\n",
    "            nn.MaxPool2d(2, 2),\n",
    "        )\n",
    "        self.conv2=nn.Conv2d(6,16,3)\n",
    "        self.relu = nn.ReLU()\n",
    "        self.pool=nn.MaxPool2d(2,2)\n",
    "        self.fc = nn.Linear(400, 5)\n",
    "        self.softmax = nn.Softmax(dim=1)\n",
    "\n",
    "    def forward(self, x):\n",
    "        x = self.block1(x)\n",
    "        x = self.relu(x)\n",
    "        x=self.relu(self.pool(self.conv2(x)))\n",
    "        x = torch.flatten(x, 1)\n",
    "        x = self.softmax(self.fc(x))\n",
    "        return x\n"
   ]
  },
  {
   "cell_type": "code",
   "execution_count": 8,
   "metadata": {},
   "outputs": [],
   "source": [
    "device = torch.device('cpu')\n",
    "net = StegNet().to(device)\n",
    "optimizer = torch.optim.Adam(net.parameters())\n",
    "criterion = nn.CrossEntropyLoss()\n"
   ]
  },
  {
   "cell_type": "code",
   "execution_count": 9,
   "metadata": {},
   "outputs": [],
   "source": [
    "if \"Model.pth\" in os.listdir(os.getcwd()):\n",
    "    net.load_state_dict(torch.load(\"Model.pth\"))"
   ]
  },
  {
   "cell_type": "code",
   "execution_count": 10,
   "metadata": {},
   "outputs": [
    {
     "name": "stdout",
     "output_type": "stream",
     "text": [
      "Loss: 141.26675283908844 \n",
      "Loss: 140.88683092594147 \n",
      "Loss: 141.07941889762878 \n",
      "Loss: 141.02567601203918 \n",
      "Loss: 141.0129451751709 \n",
      "Loss: 141.35350835323334 \n",
      "Loss: 141.0491260290146 \n",
      "Loss: 140.99648189544678 \n",
      "Loss: 140.73890089988708 \n",
      "Loss: 141.86817502975464 \n",
      "Loss: 141.3828639984131 \n",
      "Loss: 141.9338128566742 \n",
      "Loss: 142.00351011753082 \n",
      "Loss: 140.83616137504578 \n",
      "Loss: 140.9261313676834 \n",
      "Loss: 140.88334119319916 \n",
      "Loss: 140.6335221529007 \n",
      "Loss: 140.68845117092133 \n",
      "Loss: 141.45353400707245 \n",
      "Loss: 141.4214824438095 \n",
      "Loss: 140.65158832073212 \n",
      "Loss: 140.40736210346222 \n",
      "Loss: 140.8480829000473 \n",
      "Loss: 141.31782972812653 \n",
      "Loss: 141.4332456588745 \n",
      "Loss: 141.93221056461334 \n",
      "Loss: 142.27816200256348 \n",
      "Loss: 144.00248265266418 \n",
      "Loss: 141.07046592235565 \n",
      "Loss: 140.73076713085175 \n",
      "Loss: 140.48439836502075 \n",
      "Loss: 140.5784306526184 \n",
      "Loss: 140.4556074142456 \n",
      "Loss: 140.26102447509766 \n",
      "Loss: 140.4061450958252 \n",
      "Loss: 140.3505301475525 \n",
      "Loss: 140.49844026565552 \n",
      "Loss: 140.59480571746826 \n",
      "Loss: 140.5601623058319 \n",
      "Loss: 140.40066730976105 \n",
      "Loss: 140.4673398733139 \n",
      "Loss: 140.5808790922165 \n",
      "Loss: 140.31806826591492 \n",
      "Loss: 140.20283317565918 \n",
      "Loss: 140.58355343341827 \n",
      "Loss: 140.61361503601074 \n",
      "Loss: 140.87994372844696 \n",
      "Loss: 140.4982911348343 \n",
      "Loss: 140.4176368713379 \n",
      "Loss: 140.1954584121704 \n",
      "Finished Training\n"
     ]
    }
   ],
   "source": [
    "correct = 0\n",
    "for epoch in range(50):\n",
    "    running_loss = 0.0\n",
    "\n",
    "    total = 0\n",
    "    for data in trainLoader:\n",
    "        inputs, labels = data\n",
    "        inputs, labels = inputs.to(device), labels.to(device)\n",
    "\n",
    "        # zero the parameter gradients\n",
    "        optimizer.zero_grad()\n",
    "\n",
    "        # forward + backward + optimize\n",
    "        outputs = net(inputs)\n",
    "        correct += (torch.argmax(outputs, 1) == labels).sum()\n",
    "        loss = criterion(outputs, labels)\n",
    "        loss.backward()\n",
    "        optimizer.step()\n",
    "        running_loss += loss.item()\n",
    "\n",
    "    print('Loss: {} '.format(running_loss))\n",
    "torch.save(net.state_dict(),f\"Model.pth\")\n",
    "print('Finished Training')"
   ]
  },
  {
   "cell_type": "code",
   "execution_count": 11,
   "metadata": {},
   "outputs": [],
   "source": [
    "torch.save(net.state_dict(),f\"Model.pth\")"
   ]
  },
  {
   "cell_type": "code",
   "execution_count": 12,
   "metadata": {},
   "outputs": [
    {
     "name": "stdout",
     "output_type": "stream",
     "text": [
      "Accuracy for class JMiPOD is: 17.3 %\n",
      "Accuracy for class JUNIWARD is: 13.1 %\n",
      "Accuracy for class MLStego is: 83.8 %\n",
      "Accuracy for class Normal is: 100.0 %\n",
      "Accuracy for class UERD  is: 14.2 %\n"
     ]
    }
   ],
   "source": [
    "classes=trainset.classes\n",
    "testLoader = DataLoader(testset, batch_size=32, shuffle=True)\n",
    "correct_pred = {classname: 0 for classname in classes}\n",
    "total_pred = {classname: 0 for classname in classes}\n",
    "\n",
    "# again no gradients needed\n",
    "with torch.no_grad():\n",
    "    for data in testLoader:\n",
    "        images, labels = data\n",
    "        outputs = net(images)\n",
    "        _, predictions = torch.max(outputs, 1)\n",
    "        # collect the correct predictions for each class\n",
    "        for label, prediction in zip(labels, predictions):\n",
    "            if label == prediction:\n",
    "                correct_pred[classes[label]] += 1\n",
    "            total_pred[classes[label]] += 1\n",
    "\n",
    "\n",
    "# print accuracy for each class\n",
    "for classname, correct_count in correct_pred.items():\n",
    "    accuracy = 100 * float(correct_count) / total_pred[classname]\n",
    "    print(\"Accuracy for class {:5s} is: {:.1f} %\".format(classname, accuracy))\n"
   ]
  },
  {
   "cell_type": "code",
   "execution_count": 13,
   "metadata": {},
   "outputs": [
    {
     "name": "stdout",
     "output_type": "stream",
     "text": [
      "Test Accuracy:  34.088050314465406\n"
     ]
    }
   ],
   "source": [
    "correct,total=0,0\n",
    "for classname in correct_pred:\n",
    "    correct += correct_pred[classname]\n",
    "    total += total_pred[classname]\n",
    "\n",
    "print(\"Test Accuracy: \", correct/total*100)"
   ]
  },
  {
   "cell_type": "code",
   "execution_count": 14,
   "metadata": {},
   "outputs": [
    {
     "data": {
      "text/plain": [
       "{'JMiPOD': 35, 'JUNIWARD': 26, 'MLStego': 83, 'Normal': 99, 'UERD': 28}"
      ]
     },
     "execution_count": 14,
     "metadata": {},
     "output_type": "execute_result"
    }
   ],
   "source": [
    "correct_pred"
   ]
  },
  {
   "cell_type": "code",
   "execution_count": 15,
   "metadata": {},
   "outputs": [
    {
     "data": {
      "text/plain": [
       "{'JMiPOD': 202, 'JUNIWARD': 198, 'MLStego': 99, 'Normal': 99, 'UERD': 197}"
      ]
     },
     "execution_count": 15,
     "metadata": {},
     "output_type": "execute_result"
    }
   ],
   "source": [
    "total_pred"
   ]
  },
  {
   "cell_type": "code",
   "execution_count": 16,
   "metadata": {},
   "outputs": [
    {
     "data": {
      "text/plain": [
       "795"
      ]
     },
     "execution_count": 16,
     "metadata": {},
     "output_type": "execute_result"
    }
   ],
   "source": [
    "len(testset)"
   ]
  },
  {
   "cell_type": "code",
   "execution_count": 21,
   "metadata": {},
   "outputs": [],
   "source": [
    "@torch.no_grad()\n",
    "def get_all_preds(model, loader):\n",
    "    all_preds = torch.tensor([])\n",
    "    for batch in loader:\n",
    "        images, labels = batch\n",
    "        preds = model(images)\n",
    "        all_preds = torch.cat(\n",
    "            (all_preds, preds), dim=0\n",
    "        )\n",
    "    return all_preds\n",
    "\n"
   ]
  },
  {
   "cell_type": "code",
   "execution_count": 26,
   "metadata": {},
   "outputs": [],
   "source": [
    "def get_num_correct(preds, targets):\n",
    "    print(preds.argmax(dim=1))\n",
    "    print(targets)"
   ]
  },
  {
   "cell_type": "code",
   "execution_count": 28,
   "metadata": {},
   "outputs": [
    {
     "name": "stdout",
     "output_type": "stream",
     "text": [
      "tensor([3, 2, 3, 1, 3, 1, 0, 3, 2, 3, 1, 1, 1, 0, 4, 4, 3, 3, 3, 4, 0, 4, 3, 3,\n",
      "        0, 2, 2, 3, 2, 3, 0, 3, 3, 3, 3, 3, 3, 3, 3, 2, 1, 3, 2, 1, 3, 3, 4, 4,\n",
      "        0, 1, 3, 0, 3, 3, 1, 2, 3, 4, 3, 3, 2, 3, 1, 3, 3, 2, 3, 4, 3, 3, 1, 3,\n",
      "        1, 3, 3, 4, 0, 2, 4, 3, 3, 3, 3, 4, 3, 2, 1, 3, 3, 2, 3, 4, 4, 2, 0, 3,\n",
      "        3, 3, 3, 3, 3, 3, 3, 4, 4, 1, 3, 1, 4, 3, 0, 4, 3, 3, 0, 0, 3, 4, 3, 3,\n",
      "        1, 3, 3, 3, 3, 3, 4, 3, 3, 4, 1, 3, 3, 3, 3, 3, 3, 3, 4, 3, 3, 3, 3, 1,\n",
      "        2, 4, 3, 3, 3, 3, 3, 4, 2, 2, 4, 0, 3, 2, 2, 2, 3, 3, 1, 3, 2, 3, 0, 3,\n",
      "        3, 2, 3, 1, 0, 0, 3, 3, 0, 3, 3, 3, 3, 3, 4, 2, 3, 0, 0, 3, 3, 2, 1, 3,\n",
      "        3, 2, 3, 3, 4, 3, 3, 3, 2, 4, 3, 2, 2, 3, 3, 0, 1, 4, 3, 4, 2, 0, 4, 3,\n",
      "        3, 1, 0, 4, 4, 1, 3, 3, 3, 3, 3, 4, 4, 0, 0, 0, 3, 3, 4, 2, 3, 3, 0, 4,\n",
      "        3, 2, 3, 3, 2, 3, 3, 2, 3, 3, 3, 3, 0, 2, 2, 3, 3, 3, 3, 3, 3, 4, 1, 3,\n",
      "        1, 1, 3, 4, 3, 2, 0, 3, 0, 4, 0, 4, 1, 3, 3, 3, 1, 2, 4, 0, 3, 2, 3, 2,\n",
      "        3, 3, 3, 4, 2, 3, 2, 3, 3, 4, 4, 3, 3, 4, 3, 4, 0, 3, 3, 3, 3, 2, 4, 3,\n",
      "        3, 3, 2, 3, 4, 1, 4, 3, 2, 3, 3, 2, 3, 3, 4, 0, 2, 2, 1, 3, 3, 3, 3, 4,\n",
      "        4, 2, 1, 3, 2, 4, 0, 3, 3, 2, 3, 3, 3, 3, 1, 3, 3, 1, 4, 3, 2, 3, 2, 3,\n",
      "        1, 3, 3, 3, 3, 3, 2, 4, 3, 3, 3, 3, 3, 0, 1, 4, 0, 3, 2, 2, 1, 3, 1, 3,\n",
      "        2, 3, 2, 0, 3, 1, 3, 3, 2, 3, 3, 4, 3, 3, 4, 1, 2, 3, 0, 2, 3, 3, 0, 4,\n",
      "        3, 3, 3, 3, 2, 3, 0, 4, 3, 3, 3, 3, 0, 3, 0, 4, 3, 2, 0, 3, 3, 4, 3, 3,\n",
      "        3, 3, 3, 3, 3, 1, 2, 4, 3, 0, 3, 3, 3, 3, 3, 4, 3, 3, 1, 2, 1, 3, 3, 3,\n",
      "        3, 3, 2, 1, 3, 3, 2, 2, 3, 2, 3, 3, 2, 3, 3, 3, 3, 3, 2, 2, 1, 2, 4, 3,\n",
      "        3, 3, 3, 0, 3, 3, 1, 4, 3, 0, 0, 2, 3, 3, 3, 2, 3, 3, 0, 4, 0, 1, 4, 1,\n",
      "        3, 3, 3, 3, 2, 1, 0, 2, 1, 0, 3, 3, 1, 4, 3, 3, 3, 1, 2, 2, 3, 3, 4, 3,\n",
      "        2, 1, 3, 1, 3, 3, 1, 2, 3, 0, 3, 3, 3, 1, 0, 3, 1, 4, 1, 2, 3, 1, 3, 4,\n",
      "        2, 0, 1, 3, 2, 3, 4, 3, 3, 1, 1, 2, 1, 0, 1, 0, 3, 1, 3, 2, 4, 2, 4, 3,\n",
      "        3, 0, 2, 0, 2, 3, 1, 3, 1, 0, 1, 3, 3, 0, 4, 0, 3, 4, 3, 3, 0, 3, 2, 3,\n",
      "        3, 2, 1, 3, 3, 1, 2, 4, 4, 1, 2, 4, 3, 3, 3, 4, 4, 3, 1, 0, 2, 3, 0, 3,\n",
      "        4, 3, 3, 2, 4, 2, 3, 3, 3, 0, 0, 2, 2, 2, 3, 1, 0, 1, 3, 3, 3, 1, 4, 4,\n",
      "        3, 0, 3, 3, 3, 2, 0, 0, 1, 3, 3, 3, 0, 3, 2, 1, 3, 3, 2, 1, 1, 3, 3, 3,\n",
      "        2, 3, 1, 4, 3, 3, 3, 3, 1, 4, 3, 0, 3, 3, 0, 3, 1, 0, 1, 1, 1, 3, 2, 3,\n",
      "        3, 2, 3, 3, 3, 3, 4, 3, 3, 3, 3, 4, 3, 3, 3, 2, 4, 2, 3, 1, 2, 3, 3, 0,\n",
      "        3, 3, 1, 3, 3, 0, 3, 3, 2, 3, 4, 4, 0, 3, 0, 3, 4, 4, 0, 2, 0, 4, 3, 2,\n",
      "        3, 1, 3, 3, 3, 2, 4, 4, 2, 3, 0, 0, 3, 3, 3, 3, 0, 3, 3, 3, 4, 3, 3, 2,\n",
      "        1, 2, 2, 1, 2, 3, 3, 3, 3, 0, 2, 1, 2, 3, 2, 3, 0, 3, 3, 2, 4, 3, 3, 3,\n",
      "        1, 2, 3])\n",
      "[0, 0, 0, 0, 0, 0, 0, 0, 0, 0, 0, 0, 0, 0, 0, 0, 0, 0, 0, 0, 0, 0, 0, 0, 0, 0, 0, 0, 0, 0, 0, 0, 0, 0, 0, 0, 0, 0, 0, 0, 0, 0, 0, 0, 0, 0, 0, 0, 0, 0, 0, 0, 0, 0, 0, 0, 0, 0, 0, 0, 0, 0, 0, 0, 0, 0, 0, 0, 0, 0, 0, 0, 0, 0, 0, 0, 0, 0, 0, 0, 0, 0, 0, 0, 0, 0, 0, 0, 0, 0, 0, 0, 0, 0, 0, 0, 0, 0, 0, 0, 0, 0, 0, 0, 0, 0, 0, 0, 0, 0, 0, 0, 0, 0, 0, 0, 0, 0, 0, 0, 0, 0, 0, 0, 0, 0, 0, 0, 0, 0, 0, 0, 0, 0, 0, 0, 0, 0, 0, 0, 0, 0, 0, 0, 0, 0, 0, 0, 0, 0, 0, 0, 0, 0, 0, 0, 0, 0, 0, 0, 0, 0, 0, 0, 0, 0, 0, 0, 0, 0, 0, 0, 0, 0, 0, 0, 0, 0, 0, 0, 0, 0, 0, 0, 0, 0, 0, 0, 0, 0, 0, 0, 0, 0, 0, 0, 0, 0, 0, 0, 0, 0, 1, 1, 1, 1, 1, 1, 1, 1, 1, 1, 1, 1, 1, 1, 1, 1, 1, 1, 1, 1, 1, 1, 1, 1, 1, 1, 1, 1, 1, 1, 1, 1, 1, 1, 1, 1, 1, 1, 1, 1, 1, 1, 1, 1, 1, 1, 1, 1, 1, 1, 1, 1, 1, 1, 1, 1, 1, 1, 1, 1, 1, 1, 1, 1, 1, 1, 1, 1, 1, 1, 1, 1, 1, 1, 1, 1, 1, 1, 1, 1, 1, 1, 1, 1, 1, 1, 1, 1, 1, 1, 1, 1, 1, 1, 1, 1, 1, 1, 1, 1, 1, 1, 1, 1, 1, 1, 1, 1, 1, 1, 1, 1, 1, 1, 1, 1, 1, 1, 1, 1, 1, 1, 1, 1, 1, 1, 1, 1, 1, 1, 1, 1, 1, 1, 1, 1, 1, 1, 1, 1, 1, 1, 1, 1, 1, 1, 1, 1, 1, 1, 1, 1, 1, 1, 1, 1, 1, 1, 1, 1, 1, 1, 1, 1, 1, 1, 1, 1, 1, 1, 1, 1, 1, 1, 1, 1, 1, 1, 1, 1, 1, 1, 1, 1, 1, 1, 1, 1, 1, 1, 1, 1, 1, 1, 1, 1, 1, 1, 2, 2, 2, 2, 2, 2, 2, 2, 2, 2, 2, 2, 2, 2, 2, 2, 2, 2, 2, 2, 2, 2, 2, 2, 2, 2, 2, 2, 2, 2, 2, 2, 2, 2, 2, 2, 2, 2, 2, 2, 2, 2, 2, 2, 2, 2, 2, 2, 2, 2, 2, 2, 2, 2, 2, 2, 2, 2, 2, 2, 2, 2, 2, 2, 2, 2, 2, 2, 2, 2, 2, 2, 2, 2, 2, 2, 2, 2, 2, 2, 2, 2, 2, 2, 2, 2, 2, 2, 2, 2, 2, 2, 2, 2, 2, 2, 2, 2, 2, 3, 3, 3, 3, 3, 3, 3, 3, 3, 3, 3, 3, 3, 3, 3, 3, 3, 3, 3, 3, 3, 3, 3, 3, 3, 3, 3, 3, 3, 3, 3, 3, 3, 3, 3, 3, 3, 3, 3, 3, 3, 3, 3, 3, 3, 3, 3, 3, 3, 3, 3, 3, 3, 3, 3, 3, 3, 3, 3, 3, 3, 3, 3, 3, 3, 3, 3, 3, 3, 3, 3, 3, 3, 3, 3, 3, 3, 3, 3, 3, 3, 3, 3, 3, 3, 3, 3, 3, 3, 3, 3, 3, 3, 3, 3, 3, 3, 3, 3, 4, 4, 4, 4, 4, 4, 4, 4, 4, 4, 4, 4, 4, 4, 4, 4, 4, 4, 4, 4, 4, 4, 4, 4, 4, 4, 4, 4, 4, 4, 4, 4, 4, 4, 4, 4, 4, 4, 4, 4, 4, 4, 4, 4, 4, 4, 4, 4, 4, 4, 4, 4, 4, 4, 4, 4, 4, 4, 4, 4, 4, 4, 4, 4, 4, 4, 4, 4, 4, 4, 4, 4, 4, 4, 4, 4, 4, 4, 4, 4, 4, 4, 4, 4, 4, 4, 4, 4, 4, 4, 4, 4, 4, 4, 4, 4, 4, 4, 4, 4, 4, 4, 4, 4, 4, 4, 4, 4, 4, 4, 4, 4, 4, 4, 4, 4, 4, 4, 4, 4, 4, 4, 4, 4, 4, 4, 4, 4, 4, 4, 4, 4, 4, 4, 4, 4, 4, 4, 4, 4, 4, 4, 4, 4, 4, 4, 4, 4, 4, 4, 4, 4, 4, 4, 4, 4, 4, 4, 4, 4, 4, 4, 4, 4, 4, 4, 4, 4, 4, 4, 4, 4, 4, 4, 4, 4, 4, 4, 4, 4, 4, 4, 4, 4, 4, 4, 4, 4, 4, 4, 4, 4, 4, 4, 4, 4, 4]\n"
     ]
    }
   ],
   "source": [
    "get_num_correct(all_preds,testset.targets)"
   ]
  },
  {
   "cell_type": "code",
   "execution_count": 24,
   "metadata": {},
   "outputs": [],
   "source": [
    "all_preds=get_all_preds(net,testLoader)\n",
    "\n"
   ]
  },
  {
   "cell_type": "code",
   "execution_count": null,
   "metadata": {},
   "outputs": [],
   "source": []
  }
 ],
 "metadata": {
  "interpreter": {
   "hash": "f375280c252d8492f9929f545102be4436b56b7b9d809e2d50f7485678504f56"
  },
  "kernelspec": {
   "display_name": "Python 3.9.5 64-bit ('base': conda)",
   "language": "python",
   "name": "python3"
  },
  "language_info": {
   "codemirror_mode": {
    "name": "ipython",
    "version": 3
   },
   "file_extension": ".py",
   "mimetype": "text/x-python",
   "name": "python",
   "nbconvert_exporter": "python",
   "pygments_lexer": "ipython3",
   "version": "3.9.5"
  },
  "orig_nbformat": 4
 },
 "nbformat": 4,
 "nbformat_minor": 2
}
